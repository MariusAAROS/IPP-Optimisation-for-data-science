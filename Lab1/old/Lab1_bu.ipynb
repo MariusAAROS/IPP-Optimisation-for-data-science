{
 "cells": [
  {
   "cell_type": "markdown",
   "metadata": {},
   "source": [
    "# Lab 1 : First order methods on regression models\n",
    "\n",
    "#### Authors: A. Gramfort, R. Gower, P. Ablin, M. Massias\n",
    "\n",
    "## Aim\n",
    "\n",
    "The aim of this material is to code \n",
    "- proximal gradient descent (PGD)\n",
    "- accelerated gradient descent (APGD) \n",
    "\n",
    "for \n",
    "- linear regression\n",
    "- logistic regression \n",
    "\n",
    "models.\n",
    "\n",
    "The proximal operators we will use are the \n",
    "- L2 penalization\n",
    "- L1 penalization\n",
    "\n",
    "## VERY IMPORTANT\n",
    "\n",
    "- This work **must be done by pairs of students**.\n",
    "- **Each** student must send their work using the **moodle platform**. Please check the deadline on moodle!\n",
    "- This means that **each student in the pair sends the same file**\n",
    "- The **name of the file must be** constructed as in the next cell\n",
    "\n",
    "# Gentle reminder: no evaluation if you don't respect this EXACTLY\n",
    "\n",
    "### How to construct the name of your file"
   ]
  },
  {
   "cell_type": "code",
   "execution_count": 42,
   "metadata": {
    "tags": []
   },
   "outputs": [
    {
     "name": "stdout",
     "output_type": "stream",
     "text": [
      "lab1_cuvelier_julia_and_ortega_marius.ipynb\n"
     ]
    }
   ],
   "source": [
    "# Change here using YOUR first and last names\n",
    "fn1 = \"julia\"\n",
    "ln1 = \"cuvelier\"\n",
    "fn2 = \"marius\"\n",
    "ln2 = \"ortega\"\n",
    "\n",
    "filename = \"_\".join(map(lambda s: s.strip().lower(), \n",
    "                        [\"lab1\", ln1, fn1, \"and\", ln2, fn2])) + \".ipynb\"\n",
    "print(filename)"
   ]
  },
  {
   "cell_type": "code",
   "execution_count": 43,
   "metadata": {},
   "outputs": [],
   "source": [
    "## to embed figures in the notebook\n",
    "%matplotlib inline"
   ]
  },
  {
   "cell_type": "markdown",
   "metadata": {},
   "source": [
    "## Part 0 : Introduction\n",
    "\n",
    "We'll start by generating sparse vectors and simulating data\n",
    "\n",
    "### Getting sparse coefficients"
   ]
  },
  {
   "cell_type": "code",
   "execution_count": 44,
   "metadata": {},
   "outputs": [],
   "source": [
    "import numpy as np\n",
    "import matplotlib.pyplot as plt\n",
    "from numpy.linalg import norm\n",
    "\n",
    "np.set_printoptions(precision=2)  # to have simpler print outputs with numpy"
   ]
  },
  {
   "cell_type": "code",
   "execution_count": 45,
   "metadata": {},
   "outputs": [
    {
     "data": {
      "text/plain": [
       "Text(0.5, 1.0, 'Parameters / Coefficients')"
      ]
     },
     "execution_count": 45,
     "metadata": {},
     "output_type": "execute_result"
    },
    {
     "data": {
      "image/png": "[encoded data removed]",
      "text/plain": [
       "<Figure size 640x480 with 1 Axes>"
      ]
     },
     "metadata": {},
     "output_type": "display_data"
    }
   ],
   "source": [
    "n_features = 50\n",
    "n_samples = 1000\n",
    "idx = np.arange(n_features)\n",
    "coefs = ((-1) ** idx) * np.exp(-idx / 10.)\n",
    "coefs[20:] = 0.\n",
    "plt.stem(coefs)\n",
    "plt.title(\"Parameters / Coefficients\")"
   ]
  },
  {
   "cell_type": "markdown",
   "metadata": {},
   "source": [
    "### Functions for the simulation of the models"
   ]
  },
  {
   "cell_type": "code",
   "execution_count": 46,
   "metadata": {},
   "outputs": [],
   "source": [
    "from numpy.random import multivariate_normal\n",
    "from scipy.linalg import toeplitz\n",
    "\n",
    "\n",
    "def simu_linreg(coefs, n_samples=1000, corr=0.5):\n",
    "    \"\"\"Simulation of a linear regression model\n",
    "    \n",
    "    Parameters\n",
    "    ----------\n",
    "    coefs : `numpy.array`, shape (n_features,)\n",
    "        Coefficients of the model\n",
    "    \n",
    "    n_samples : `int`, default=1000\n",
    "        Number of samples to simulate\n",
    "    \n",
    "    corr : `float`, default=0.5\n",
    "         Correlation between features i and j is corr^|i - j|\n",
    "\n",
    "\n",
    "    Returns\n",
    "    -------\n",
    "    A : `numpy.ndarray`, shape (n_samples, n_features)\n",
    "        Simulated features matrix. It samples of a centered Gaussian \n",
    "        vector with covariance given by the Toeplitz matrix\n",
    "    \n",
    "    b : `numpy.array`, shape (n_samples,)\n",
    "        Simulated labels\n",
    "    \"\"\"\n",
    "    # Construction of a covariance matrix\n",
    "    cov = toeplitz(corr ** np.arange(0, n_features))\n",
    "    # Simulation of features\n",
    "    A = multivariate_normal(np.zeros(n_features), cov, size=n_samples)\n",
    "    # Simulation of the labels\n",
    "    b = A.dot(coefs) + np.random.randn(n_samples)\n",
    "    return A, b\n",
    "\n",
    "\n",
    "def sigmoid(t):\n",
    "    \"\"\"Sigmoid function\"\"\"\n",
    "    return 1. / (1. + np.exp(-t))\n",
    "\n",
    "\n",
    "def simu_logreg(coefs, n_samples=1000, corr=0.5):\n",
    "    \"\"\"Simulation of a logistic regression model\n",
    "    \n",
    "    Parameters\n",
    "    ----------\n",
    "    coefs : `numpy.array`, shape (n_features,)\n",
    "        Coefficients of the model\n",
    "    \n",
    "    n_samples : `int`, default=1000\n",
    "        Number of samples to simulate\n",
    "    \n",
    "    corr : `float`, default=0.5\n",
    "        Correlation between features i and j is corr^|i - j|\n",
    "\n",
    "    Returns\n",
    "    -------\n",
    "    A : `numpy.ndarray`, shape (n_samples, n_features)\n",
    "        Simulated features matrix. It samples of a centered Gaussian \n",
    "        vector with covariance given by the Toeplitz matrix\n",
    "    \n",
    "    b : `numpy.array`, shape (n_samples,)\n",
    "        Simulated labels\n",
    "    \"\"\"\n",
    "    cov = toeplitz(corr ** np.arange(0, n_features))\n",
    "    A = multivariate_normal(np.zeros(n_features), cov, size=n_samples)\n",
    "    p = sigmoid(A.dot(coefs))\n",
    "    b = np.random.binomial(1, p, size=n_samples)\n",
    "    b = 2 * b - 1\n",
    "    return A, b"
   ]
  },
  {
   "cell_type": "markdown",
   "metadata": {},
   "source": [
    "## Generate the data"
   ]
  },
  {
   "cell_type": "code",
   "execution_count": 47,
   "metadata": {},
   "outputs": [],
   "source": [
    "A, b = simu_linreg(coefs)\n",
    "# A, b = simu_logreg(coefs)  # uncomment when you want to test logistic regression"
   ]
  },
  {
   "cell_type": "markdown",
   "metadata": {},
   "source": [
    "## Part 1 : Proximal operators"
   ]
  },
  {
   "cell_type": "markdown",
   "metadata": {},
   "source": [
    "We remind that the proximal operator of a function $R$ is given by:\n",
    "\n",
    "$$\n",
    "\\text{prox}_{(\\lambda \\,R)}(x) = \\arg\\min_z \\left\\{ \\frac{1}{2} \\Vert x - z\\Vert_2^2 + \\lambda \\,R(z) \\right\\}.\n",
    "$$\n",
    "\n",
    "\n",
    "We have in mind to use the following cases\n",
    "\n",
    "- L2 penalization, where $R(z) = \\frac{1}{2} \\|z\\|_2^2$\n",
    "- L1 penalization, where $R(z) =  \\|z|\\|_1$\n",
    "\n",
    "where $\\lambda > 0$ is a regularization parameter."
   ]
  },
  {
   "cell_type": "markdown",
   "metadata": {},
   "source": [
    "<div class=\"alert alert-success\">\n",
    "    <b>Questions</b>:\n",
    "     <ul>\n",
    "      <li>Code a function that computes $R(x)$ in both cases and $\\text{prox}_{\\lambda\\, R}(x)$ for L2 and  L1 penalization (use the slides of the first course to get the formulas), using the prototypes given below</li>\n",
    "      <li>Visualize the functions applied element wise by the proximity operators of the L2 and L1 \n",
    "    </li>\n",
    "    </ul>\n",
    "</div>"
   ]
  },
  {
   "cell_type": "markdown",
   "metadata": {},
   "source": [
    "#### Prox-L1\n",
    "\n",
    "To find $prox_{L1}$ we ought to solve the following problem :\n",
    "$$\n",
    "\\text{prox}_{(\\lambda \\vert\\vert z \\vert\\vert_1)}(x) = \\arg\\min_z \\left\\{ \\frac{1}{2} \\Vert x - z\\Vert_2^2 + \\lambda \\Vert z \\Vert_1 \\right\\} \\\\\n",
    "$$\n",
    "\n",
    "We can reformulate the problem by writting the optimal condition : \n",
    "$$\n",
    "0 \\in \\nabla \\left( \\frac{1}{2} \\Vert x - z\\Vert_2^2 \\right) + \\partial (\\lambda \\Vert z\\Vert_1) \\Leftrightarrow 0 \\in z - x + \\lambda\\partial\\Vert z\\Vert_1\n",
    "$$\n",
    "\n",
    "Let's rewrite the expression at the optimum $z^*$ :\n",
    "\n",
    "$$\n",
    "0 = z^* - x + \\lambda\\partial\\Vert z^*\\Vert_1 = z^* - x + \\lambda sign(z^*) \\Leftrightarrow z^* = x - sign(z^*) \\\\\n",
    "$$\n",
    "\n",
    "We substituate $z^*$ in the expression of the proximal operator :\n",
    "$$\n",
    "sign(z^*) = sign(x), \\forall x, \\lambda \\Rightarrow z^* = x - sign(x)\n",
    "$$\n",
    "\n",
    "From there we can expression the proximal of $L_1 norm$ : \n",
    "\n",
    "$$\n",
    "\\begin{equation} \\tag{1}\n",
    "  \\text{prox}_{(\\lambda \\frac{1}{2} \\vert\\vert z \\vert\\vert_2^2)}(x) = z^* = \n",
    "    \\begin{cases}\n",
    "      0 & \\text{if }\\vert x \\vert \\le \\lambda\\\\\n",
    "      x-\\lambda sign(x) & \\text{if } \\vert x \\vert > \\lambda\\\\\n",
    "    \\end{cases}      \n",
    "    \\Rightarrow prox_{\\lambda \\vert\\vert z \\vert\\vert_1}(x) = sign(x) \\max(\\vert x \\vert - \\lambda, 0)\n",
    "\\end{equation}\n",
    "$$\n",
    "\n",
    "#### Prox-L2\n",
    "\n",
    "To find $prox_{L1}$ we ought to solve the following problem :\n",
    "$$\n",
    "\\text{prox}_{(\\lambda \\frac{1}{2} \\vert\\vert z \\vert\\vert_2^2)}(x) = \\arg\\min_z \\left\\{ \\frac{1}{2} \\Vert x - z\\Vert_2^2 + \\lambda \\frac{1}{2} \\Vert z \\Vert_2^2 \\right\\} \\\\\n",
    "$$\n",
    "\n",
    "We can reformulate the problem by writting the optimal condition :\n",
    "$$\n",
    "0 = \\nabla \\left( \\frac{1}{2} \\Vert x - z^*\\Vert_2^2 \\right) + \\partial (\\lambda \\frac{1}{2} \\Vert z^*\\Vert_2^2) \\Leftrightarrow 0 = z^* - x + \\lambda z^* \\Leftrightarrow z^* = \\frac{x}{1+\\lambda}\n",
    "$$\n",
    "\n",
    "The proximal operator of $L_2norm$ is then given by :\n",
    "$$\n",
    "\\begin{equation} \\tag{2}\n",
    "\\text{prox}_{(\\lambda \\frac{1}{2} \\vert\\vert z \\vert\\vert_2^2)}(x) = z^* = \\frac{x}{1+\\lambda}\n",
    "\\end{equation}\n",
    "$$"
   ]
  },
  {
   "cell_type": "code",
   "execution_count": 48,
   "metadata": {},
   "outputs": [],
   "source": [
    "def prox_L1(x, lmbd):\n",
    "    \"\"\"Proximal operator for the L1 at x\"\"\"\n",
    "    prox = np.sign(x)*np.maximum(np.abs(x)-lmbd, 0)\n",
    "    return prox # TODO\n",
    "    \n",
    "def L1_norm(x, lmbd):\n",
    "    \"\"\"Value of the L1 penalization at x\"\"\"\n",
    "    x = lmbd * norm(x, ord=1)\n",
    "    return x # TODO\n",
    "\n",
    "def prox_L2(x, lmbd):\n",
    "    \"\"\"Proximal operator for the L2 at x\"\"\"    \n",
    "    prox = x/(1 + lmbd)\n",
    "    return prox # TODO\n",
    "    \n",
    "def L2_norm(x, lmbd):\n",
    "    \"\"\"Value of the L2 penalization at x\"\"\"\n",
    "    x = lmbd * norm(x, ord=2)\n",
    "    return x # TODO"
   ]
  },
  {
   "cell_type": "markdown",
   "metadata": {},
   "source": [
    "## Visualization\n",
    "\n",
    "We are now going to visualize the effect of the proximity operators on coefficients."
   ]
  },
  {
   "cell_type": "code",
   "execution_count": 49,
   "metadata": {},
   "outputs": [
    {
     "data": {
      "text/plain": [
       "(-2.0, 2.0)"
      ]
     },
     "execution_count": 49,
     "metadata": {},
     "output_type": "execute_result"
    },
    {
     "data": {
      "image/png": "[encoded data removed]",
      "text/plain": [
       "<Figure size 1500x400 with 3 Axes>"
      ]
     },
     "metadata": {},
     "output_type": "display_data"
    }
   ],
   "source": [
    "x = np.random.randn(50)\n",
    "l_l1 = 1.\n",
    "l_l2 = 0.5\n",
    "\n",
    "plt.figure(figsize=(15.0, 4.0))\n",
    "plt.subplot(1, 3, 1)\n",
    "plt.stem(x)\n",
    "plt.title(\"Original parameter\", fontsize=16)\n",
    "plt.ylim([-2, 2])\n",
    "plt.subplot(1, 3, 2)\n",
    "plt.stem(prox_L1(x, lmbd=l_l1))\n",
    "plt.title(\"Proximal L1\", fontsize=16)\n",
    "plt.ylim([-2, 2])\n",
    "plt.subplot(1, 3, 3)\n",
    "plt.stem(prox_L2(x, lmbd=l_l2))\n",
    "plt.title(\"Proximal L2\", fontsize=16)\n",
    "plt.ylim([-2, 2])"
   ]
  },
  {
   "cell_type": "markdown",
   "metadata": {},
   "source": [
    "<div class=\"alert alert-success\">\n",
    "    <b>Question</b>:\n",
    "     <ul>\n",
    "      <li>Comment what you observe (1 or 2 sentences).</li>\n",
    "    </ul>\n",
    "</div>"
   ]
  },
  {
   "cell_type": "markdown",
   "metadata": {},
   "source": [
    "#### L1-norm\n",
    "\n",
    "We notice that all values that are greater that lambda are scaled down by the value of lambda and the other (i.e. less important) parameters are put to 0. The L1 regulariation promotes sparcity which induces feature selection and helps accelerating gradient descent. \n",
    "\n",
    "#### L2-norm squared\n",
    "\n",
    "L2-squared normalization tends to scale down all components without promoting sparsity like L1 normalization. it smoothes parameters' distribution. "
   ]
  },
  {
   "cell_type": "markdown",
   "metadata": {},
   "source": [
    "## Part 2: Gradients\n",
    "\n",
    "The problems we want to minimize take the form:\n",
    "$$\n",
    "\\arg\\min_x f(x) + \\lambda \\,R(x)\n",
    "$$\n",
    "where $f$ is $L$-smooth and $R$ has a simple proximal operator.\n",
    "\n",
    "Consider the following cases:\n",
    "\n",
    "**Linear regression**, where \n",
    "$$\n",
    "f(x) = \\frac{1}{2n} \\sum_{i=1}^n (b_i - a_i^\\top x)^2 = \\frac{1}{2 n} \\| b - A x \\|_2^2,\n",
    "$$\n",
    "where $n$ is the sample size, $b = [b_1 \\cdots b_n]$ is the vector of labels and $A = [a_1,\\ldots, a_n]^{\\top} \\in \\mathbb{R}^{n \\times d}$ is the matrix of samples.\n",
    "\n",
    "**Logistic regression**, where\n",
    "$$\n",
    "f(x) = \\frac{1}{n} \\sum_{i=1}^n \\log(1 + \\exp(-b_i a_i^\\top x)),\n",
    "$$\n",
    "where $n$ is the sample size, and where labels $b_i \\in \\{ -1, 1 \\}$ for all $i$.\n",
    "\n",
    "We need to be able to compute $f$ and its gradient"
   ]
  },
  {
   "cell_type": "markdown",
   "metadata": {},
   "source": [
    "<div class=\"alert alert-success\">\n",
    "    <b>Questions</b>:\n",
    "     <ul>\n",
    "      <li>Compute on paper the gradient $\\nabla f$ of $f$ for both cases (linear and logistic regression)</li>\n",
    "      <li>Code a function that computes $f$ and its gradient $\\nabla f$ in both cases, using the prototypes below.</li>\n",
    "      <li>Check that these functions are correct by numerically checking the gradient, using the function ``<a href=\"https://docs.scipy.org/doc/scipy/reference/generated/scipy.optimize.check_grad.html\">check_grad</a>`` from ``scipy.optimize``. Remark: use the functions `simu_linreg` and `simu_logreg` to simulate data according to the right model</li>\n",
    "    </ul>\n",
    "</div>"
   ]
  },
  {
   "cell_type": "markdown",
   "metadata": {},
   "source": [
    "Let's start by computing the gradient of $f$ for both cases :\n",
    "\n",
    "#### Linear regression\n",
    "\n",
    "$$\n",
    "\\begin{align*}\n",
    "\n",
    "\\nabla f(x) &= \\frac{1}{2n} \\nabla \\Vert b - Ax \\Vert_2^2 \\\\\n",
    "&= \\frac{1}{n} A^T (b - Ax) \n",
    "\n",
    "\\end{align*}\n",
    "$$\n",
    "\n",
    "#### Logistic regression\n",
    "\n",
    "$$\n",
    "\n",
    "\\begin{align*}\n",
    "\\nabla f(x) &= \\frac{1}{n} \\nabla \\sum_{i=1}^n \\log(1 + \\exp(-b_i a_i^\\top x)) \\\\\n",
    "            &= \\frac{1}{n} \\sum_{i=1}^n \\frac{-b_i a_i \\exp(-b_i a_i^\\top x)}{1 + \\exp(-b_i a_i^\\top x)} = \\frac{1}{n} \\sum_{i=1}^n -b_ia_i(1 - \\sigma(b_i a_i^\\top x)), \\text{because  } 1-\\sigma(z) = \\frac{e^{-z}}{1+e^{-z}} \\\\\n",
    "\\end{align*}\n",
    "$$"
   ]
  },
  {
   "cell_type": "code",
   "execution_count": 50,
   "metadata": {},
   "outputs": [],
   "source": [
    "def loss_linreg(x):\n",
    "    \"\"\"Least-squares loss\"\"\"\n",
    "    # TODO\n",
    "    loss = (1/(2*n_samples)) * norm(b - A@x, ord=2)**2\n",
    "    return loss\n",
    "\n",
    "def grad_linreg(x):\n",
    "    \"\"\"Leas-squares gradient\"\"\"\n",
    "    # TODO\n",
    "    grad = 1/n_samples * A.T @ (A@x-b)\n",
    "    return grad\n",
    "\n",
    "def loss_logreg(x):\n",
    "    \"\"\"Logistic loss\"\"\"\n",
    "    # TODO\n",
    "    loss = np.mean(np.log(1 + np.exp(-b * A.dot(x))))\n",
    "    return loss\n",
    "\n",
    "def grad_logreg(x):\n",
    "    \"\"\"Logistic gradient\"\"\"\n",
    "    # TODO\n",
    "    grad = np.mean(-b * A * (1-sigmoid(-b * A.dot(x))), axis=1)\n",
    "    return grad\n",
    "\n",
    "# TO BE COMPLETED"
   ]
  },
  {
   "cell_type": "markdown",
   "metadata": {},
   "source": [
    "## Part 3: Solvers"
   ]
  },
  {
   "cell_type": "markdown",
   "metadata": {},
   "source": [
    "We know have a function to compute $f$, $\\nabla f$ and $R$ and $\\text{prox}_R$. \n",
    "\n",
    "We want now to code the PGD and APGD solvers to minimize\n",
    "\n",
    "$$\n",
    "\\arg\\min_x f(x) + \\lambda \\, R(x)\n",
    "$$\n",
    "\n",
    "where $\\lambda >0$ is the regularization parameter"
   ]
  },
  {
   "cell_type": "markdown",
   "metadata": {},
   "source": [
    "<div class=\"alert alert-success\">\n",
    "    <b>Questions</b>:\n",
    "     <ul>\n",
    "      <li>Implement functions that compute the Lipschitz constants for linear and \n",
    "  logistic regression losses. Note that the operator norm of a matrix can \n",
    "  be computed using the function <a href=\"https://docs.scipy.org/doc/numpy/reference/generated/numpy.linalg.norm.html\">numpy.linalg.norm</a> (read the documentation\n",
    "  of the function)</li>\n",
    "      <li>Finish the functions `PGD` and `APGD` below that implements the \n",
    "  PGD(Proximal Gradient Descent) and APGD (Accelerated Proximal \n",
    "  Gradient Descent) algorithms</li>\n",
    "    </ul>\n",
    "</div>"
   ]
  },
  {
   "cell_type": "markdown",
   "metadata": {},
   "source": [
    "We want to compute Lipschitz constants for linear and logistic regression losses : \n",
    "\n",
    "- #### For linear regression :\n",
    "    $$\n",
    "    f(x) = \\frac{1}{2 n} \\| b - A x \\|_2^2 \\Rightarrow \\nabla f(x) = \\frac{1}{n} A^\\top(Ax-b) \\Rightarrow \\nabla^2 f(x) = \\frac{1}{n} A^\\top A\n",
    "    $$\n",
    "    \n",
    "    By definition of the Lipschitz constant for linear regression :\n",
    "    $$\n",
    "    L_{linreg} = \\frac{1}{n}\\lambda_{max}(A^\\top A)\n",
    "    $$ \n",
    "    Thus, we can compute the Lipschitz constant using the operator norm of the matrix $X$ :\n",
    "    $$\n",
    "    L_{linreg} = \\frac{1}{n}\\lambda_{max}(A^{\\top} A) = \\frac{1}{n}\\sigma_{max}^2(A) = \\frac{1}{n}\\Vert A \\Vert_{op}^2\n",
    "    $$\n",
    "\n",
    "- #### For logistic regression :\n",
    "\n",
    "    Here, we will use 2nd order smoothness definition :\n",
    "    $$\n",
    "    \\nabla^2 f(x) \\preceq L_{linreg}I_d\n",
    "    $$\n",
    "\n",
    "    We first compute the Hessian of the logistic regression loss :\n",
    "    $$\n",
    "    \\begin{align*}\n",
    "    \n",
    "    & f(x) = \\frac{1}{n} \\sum_{i=1}^n \\log(1 + \\exp(-b_i a_i^\\top x)) \\\\ \n",
    "    & \\nabla f(x) = \\frac{1}{n} \\sum_{i=1}^n \\frac{-b_i a_i \\exp(-b_i a_i^\\top x)}{1 + \\exp(-b_i a_i^\\top x)} = \\frac{1}{n} \\sum_{i=1}^n \\frac{b_i a_i}{1 + \\exp(b_i a_i^\\top x)} \\\\\n",
    "    & \\nabla^2 f(x) = \\frac{1}{n} \\sum_{i=1}^n \\frac{b_i^2 a_i a_i^\\top \\exp(b_i a_i^\\top x)}{(1 + \\exp(b_i a_i^\\top x))^2} = \\frac{1}{n} \\sum_{i=1}^n \\sigma(b_ia_i^\\top x)(1-\\sigma(b_i a_i^\\top x))a_i a_i^\\top\\preceq \\frac{1}{4n} \\sum_{i=1}^n a_i a_i^T = \\frac{1}{4n} A^\\top A\n",
    "    \n",
    "    \\end{align*}\n",
    "    $$\n",
    "\n",
    "    From there, we can retrieve the Lipschitz constant for logistic regression :\n",
    "    $$\n",
    "    \\frac{1}{4n} A^\\top A \\preceq L_{logreg} I_d \\Rightarrow L_{logreg} = \\frac{1}{4n} \\lambda_{max}(A^\\top A) = \\frac{1}{4n} \\sigma^2_{max}(A) = \\frac{1}{4n} \\Vert A \\Vert_{op}^2\n",
    "    $$"
   ]
  },
  {
   "cell_type": "code",
   "execution_count": 51,
   "metadata": {},
   "outputs": [],
   "source": [
    "# TO BE COMPLETED\n",
    "\n",
    "# Calculate the smoothness constant for L2 + L2 regularizor\n",
    "def smoothness_const_linreg(A): # https://math.stackexchange.com/questions/2813884/lipschitz-constant-of-ax-b-22-and-atax-b\n",
    "    \"\"\"Lipschitz constant for linear squares loss\"\"\"    \n",
    "    # TODO\n",
    "    return (1/n_samples) * norm(A, ord=2)**2\n",
    "\n",
    "# Calculate the smoothness constant for Logistic loss + L2 regularizor    \n",
    "def smoothness_const_loreg(A): # https://math.stackexchange.com/questions/3592594/lipschitz-constant-of-negative-log-likelihood-function\n",
    "    \"\"\"Lipschitz constant for logistic loss\"\"\"    \n",
    "    # TODO\n",
    "    return (1/4*n_samples) * norm(A, ord=2)**2\n",
    "    \n",
    "def PGD(x0, f, grad_f, R, prox_R, step, lmbd=0., n_iter=50,\n",
    "         x_true=coefs, verbose=True):\n",
    "    \"\"\"Proximal gradient descent algorithm\n",
    "    \"\"\"\n",
    "    x = x0.copy()\n",
    "    x_new = x0.copy()\n",
    "    n_samples, n_features = A.shape\n",
    "\n",
    "    # estimation error history\n",
    "    errors = []\n",
    "    # objective history\n",
    "    objectives = []\n",
    "    # Current estimation error\n",
    "    err = norm(x - x_true) / norm(x_true)\n",
    "    errors.append(err)\n",
    "    # Current objective\n",
    "    obj = f(x) + R(x, lmbd)\n",
    "    objectives.append(obj)\n",
    "    if verbose:\n",
    "        print(\"Lauching PGDsolver...\")\n",
    "        print(' | '.join([name.center(8) for name in [\"it\", \"obj\", \"err\"]]))\n",
    "    for k in range(n_iter + 1):\n",
    "\n",
    "        #### TODO ####\n",
    "        x_new=prox_R(x-step*grad_f(x),lmbd*step)  # proximal operator of R at x - step * grad_f(x), with a step size of lmbd*step\n",
    "\n",
    "        x=x_new\n",
    "        obj = f(x) + R(x, lmbd)\n",
    "        err = norm(x - x_true) / norm(x_true)\n",
    "        errors.append(err)\n",
    "        objectives.append(obj)\n",
    "        if k % 10 == 0 and verbose:\n",
    "            print(' | '.join([(\"%d\" % k).rjust(8), \n",
    "                              (\"%.2e\" % obj).rjust(8), \n",
    "                              (\"%.2e\" % err).rjust(8)]))\n",
    "    return x, objectives, errors"
   ]
  },
  {
   "cell_type": "code",
   "execution_count": 52,
   "metadata": {},
   "outputs": [],
   "source": [
    "# TO BE COMPLETED\n",
    "\n",
    "def APGD(x0, f, grad_f, R, prox_R, step, lmbd=0., n_iter=50,\n",
    "         x_true=coefs, verbose=True):\n",
    "    \"\"\"Accelerated Proximal gradient descent algorithm\n",
    "    \"\"\"\n",
    "    x = x0.copy()\n",
    "    x_new = x0.copy()\n",
    "    # An extra variable is required for APGD\n",
    "    z = x0.copy()\n",
    "    n_samples, n_features = A.shape\n",
    "    # estimation error history\n",
    "    errors = []\n",
    "    # objective history\n",
    "    objectives = []\n",
    "    # Current estimation error\n",
    "    err = norm(x - x_true) / norm(x_true)\n",
    "    errors.append(err)\n",
    "    # Current objective\n",
    "    obj = f(x) + R(x, lmbd)\n",
    "    objectives.append(obj)\n",
    "    t = 1.\n",
    "    t_new = 1.    \n",
    "    if verbose:\n",
    "        print(\"Lauching APGD solver...\")\n",
    "        print(' | '.join([name.center(8) for name in [\"it\", \"obj\", \"err\"]]))\n",
    "    for k in range(n_iter + 1):\n",
    "\n",
    "        #### TODO ####\n",
    "        x_new=prox_R(z-step*grad_f(z),lmbd*step)\n",
    "        t_new=(1+np.sqrt(1+4*t**2))/2\n",
    "        z=x_new+((t-1)/t_new)*(x_new-x)\n",
    "        x=x_new\n",
    "        t=t_new\n",
    "        \n",
    "        obj = f(x) + R(x, lmbd)\n",
    "        err = norm(x - x_true) / norm(x_true)\n",
    "        errors.append(err)\n",
    "        objectives.append(obj)\n",
    "        if k % 10 == 0 and verbose:\n",
    "            print(' | '.join([(\"%d\" % k).rjust(8), \n",
    "                              (\"%.2e\" % obj).rjust(8), \n",
    "                              (\"%.2e\" % err).rjust(8)]))\n",
    "    return x, np.array(objectives), np.array(errors)"
   ]
  },
  {
   "cell_type": "markdown",
   "metadata": {},
   "source": [
    "## Algorithms comparison and numerical experiments"
   ]
  },
  {
   "cell_type": "code",
   "execution_count": 53,
   "metadata": {},
   "outputs": [],
   "source": [
    "# Some definitions before launching the algorithms\n",
    "x0 = np.zeros(n_features)\n",
    "n_iter = 200\n",
    "lmbd = 1e-2"
   ]
  },
  {
   "cell_type": "markdown",
   "metadata": {},
   "source": [
    "<div class=\"alert alert-success\">\n",
    "    <b>Questions</b>:\n",
    "     <ul>\n",
    "      <li>Compute a precise minimum and a precise minimizer of the linear regression with L2 \n",
    "  penalization problem using the parameters give above. This can be done by using APGD with \n",
    "  1000 iterations.</li>\n",
    "    <li>Compare the convergences of PGD and APGD, in terms of distance to the minimum and \n",
    "  distance to the minimizer. Do your plots using a logarithmic scale of the y-axis.</li>\n",
    "    </ul>\n",
    "</div>"
   ]
  },
  {
   "cell_type": "markdown",
   "metadata": {},
   "source": [
    "#### Compute a precise minimum and a precise minimizer of the linear regression with L2 penalization problem using the parameters give above. This can be done by using APGD with 1000 iterations."
   ]
  },
  {
   "cell_type": "code",
   "execution_count": 54,
   "metadata": {},
   "outputs": [
    {
     "name": "stdout",
     "output_type": "stream",
     "text": [
      "Precise minimum of the linear regression 0.4684793712555887\n",
      "Precise minimizer of the linear regression 0.9795823129344358 | -0.8136932784046426 | 0.7215531406992564 | -0.6883109105343548 | 0.6137973161951287 | -0.5670084965841244 | 0.5273409904816778 | -0.48463836630226526 | 0.33689239328194953 | -0.1947699379021108 | 0.31660240091987946 | -0.30230670954368116 | 0.22122481231940375 | -0.271026214294328 | 0.2904766685511348 | -0.26386497367052375 | 0.24450070682645264 | -0.18864826991129682 | 0.16848580182711906 | -0.11208399336868873 | -0.09960889496188478 | 0.07971503045043588 | -0.0700469582844439 | 0.004395492229260142 | -0.02570224381123793 | -0.031209943997131857 | 0.0344316742038263 | 0.005635418317535157 | -0.023077409597104578 | 0.042376901979502744 | 0.02158583594560659 | -0.06217775904088921 | 0.046462097452105555 | -0.016404806399463585 | 0.028133298198440827 | -0.02825427240322416 | 0.03621141896150959 | 0.004143986669817618 | 0.020281001444921853 | 0.015882247769883374 | -0.023331117817014448 | 0.024384617991153705 | 0.003823703555339179 | 0.0022323347115582697 | -0.03794705916222784 | 0.07439884352770999 | 0.022339765865102425 | -0.027430243709289048 | 0.0016042619352432336 | -0.049019243105741\n"
     ]
    }
   ],
   "source": [
    "A, b = simu_linreg(coefs)\n",
    "L = smoothness_const_linreg(A)\n",
    "\n",
    "x, objectives, errors = APGD(x0, loss_linreg, grad_linreg, L2_norm, prox_L2, step = 1/L, lmbd=lmbd, n_iter=1000, verbose=False)\n",
    "\n",
    "minimum = objectives[-1]\n",
    "minimizer = x\n",
    "\n",
    "print(f'Precise minimum of the linear regression {minimum}')\n",
    "print(f'Precise minimizer of the linear regression {\" | \".join(map(lambda x: f\"{str(x)}\", minimizer))}')"
   ]
  },
  {
   "cell_type": "markdown",
   "metadata": {},
   "source": [
    "#### Compare the convergences of PGD and APGD, in terms of distance to the minimum and distance to the minimizer. Do your plots using a logarithmic scale of the y-axis."
   ]
  },
  {
   "cell_type": "code",
   "execution_count": 55,
   "metadata": {},
   "outputs": [],
   "source": [
    "A, b = simu_linreg(coefs)\n",
    "L = smoothness_const_linreg(A)\n",
    "\n",
    "x_PGD, objectives_PGD, errors_PGD = PGD(x0, loss_linreg, grad_linreg, L2_norm, prox_L2, step = 1/L, lmbd=lmbd, n_iter=800, verbose=False)\n",
    "x_APGD, objectives_APGD, errors_APGD = APGD(x0, loss_linreg, grad_linreg, L2_norm, prox_L2, step = 1/L, lmbd=lmbd, n_iter=800, verbose=False)"
   ]
  },
  {
   "cell_type": "code",
   "execution_count": 56,
   "metadata": {},
   "outputs": [
    {
     "data": {
      "image/png": "[encoded data removed]",
      "text/plain": [
       "<Figure size 1000x500 with 2 Axes>"
      ]
     },
     "metadata": {},
     "output_type": "display_data"
    }
   ],
   "source": [
    "plt.figure(figsize=(10, 5))\n",
    "\n",
    "plt.subplot(1, 2, 1)\n",
    "plt.plot(errors_PGD, label = \"PGD\")\n",
    "plt.plot(errors_APGD, label = \"APGD\")\n",
    "plt.xlabel(\"number of iteration\")\n",
    "plt.ylabel(\"error\")\n",
    "plt.yscale(\"log\")\n",
    "plt.title(\"Distance to the minimizer\")\n",
    "plt.legend()\n",
    "\n",
    "plt.subplot(1, 2, 2)\n",
    "plt.plot(objectives_PGD - objectives_PGD[-1], label = \"PGD\")\n",
    "plt.plot(objectives_APGD - objectives_APGD[-1], label = \"APGD\")\n",
    "plt.xlabel(\"number of iteration\")\n",
    "plt.ylabel(\"error\")\n",
    "plt.yscale(\"log\")\n",
    "plt.title(\"Distance to the minimum\")\n",
    "plt.legend()\n",
    "\n",
    "plt.show()"
   ]
  },
  {
   "cell_type": "markdown",
   "metadata": {},
   "source": [
    "<div class=\"alert alert-success\">\n",
    "    <b>EXERCISE</b>:\n",
    "     <ul>\n",
    "      <li>Compare the solution you obtain with PGD and APGD with the true parameter `coefs` of\n",
    "  the model. This can be done with 3 `plt.stem` plots. Do this for one problem (linear or logistic), but for both regularizers. Comment.</li>\n",
    "    <li> Pick one problem (logistic or linear) and regularizer (L1 or L2), and study the influence of the correlation \n",
    "  of the features on the performance of the optimization algorithms. Explain.</li>\n",
    "    <li>Pick a different problem (logistic or linear) and a different regularization (L1 or L2), and study the influence of the level of  \n",
    "  penalization ($\\lambda$) on the performance of the optimization algorithms. Explain. Analyse and explain the behavior of the solution vector when $\\lambda$ increases.</li>\n",
    "    </ul>\n",
    "</div>"
   ]
  },
  {
   "cell_type": "code",
   "execution_count": null,
   "metadata": {},
   "outputs": [],
   "source": []
  }
 ],
 "metadata": {
  "anaconda-cloud": {},
  "interpreter": {
   "hash": "ddeb6e512e1ef22841d21b181b577eb7b6fd883489eaad141b98586281502ceb"
  },
  "kernelspec": {
   "display_name": "Python 3 (ipykernel)",
   "language": "python",
   "name": "python3"
  },
  "language_info": {
   "codemirror_mode": {
    "name": "ipython",
    "version": 3
   },
   "file_extension": ".py",
   "mimetype": "text/x-python",
   "name": "python",
   "nbconvert_exporter": "python",
   "pygments_lexer": "ipython3",
   "version": "3.11.3"
  }
 },
 "nbformat": 4,
 "nbformat_minor": 4
}
